{
 "cells": [
  {
   "cell_type": "code",
   "execution_count": 11,
   "id": "3fb040fd-76df-49c5-bb44-e74a370ebd2e",
   "metadata": {
    "tags": []
   },
   "outputs": [],
   "source": [
    "import numpy as np\n",
    "import random\n",
    "import sys"
   ]
  },
  {
   "cell_type": "code",
   "execution_count": 41,
   "id": "3c21b65c-deb8-4a17-9242-a73aba294ec3",
   "metadata": {
    "tags": []
   },
   "outputs": [
    {
     "name": "stdout",
     "output_type": "stream",
     "text": [
      "[[-0.7706732   5.05202044]\n",
      " [-0.87276406  5.29131612]\n",
      " [-0.75721746  4.87295388]\n",
      " ...\n",
      " [ 3.51477672 -0.01808565]\n",
      " [ 8.50191253 -1.34931967]\n",
      " [ 6.87999167 -1.31414978]] [1 1 1 ... 0 0 0]\n"
     ]
    }
   ],
   "source": [
    "rng = np.random.RandomState(0)\n",
    "\n",
    "x1 = 0.13 * rng.randn(1432, 2) + np.array([-1, 5])\n",
    "x2 = 0.15 * rng.randn(1432, 2) + np.array([2, 9])\n",
    "anomalies = rng.uniform(low=np.min(np.append(x1, x2)), high=np.max(np.append(x1, x2)), size=(239, 2))\n",
    "#print(x1, x2, anomalies)\n",
    "\n",
    "X = np.concatenate([x1, x2, anomalies])\n",
    "Y = np.concatenate([np.ones((1432 * 2), dtype=int), np.zeros((239), dtype=int)])\n",
    "print(X, Y)"
   ]
  },
  {
   "cell_type": "code",
   "execution_count": 42,
   "id": "f4585baa-ef29-4207-8674-1f6f074ba15a",
   "metadata": {
    "tags": []
   },
   "outputs": [],
   "source": [
    "lines = np.array([f\"{xline[0]} {xline[1]} {y}\\n\" for xline, y in zip(X, Y)])\n",
    "#print(lines)\n",
    "random.shuffle(lines)\n",
    "with open(\"MyData\\data.txt\", \"w\") as f:\n",
    "    f.writelines(lines)"
   ]
  },
  {
   "cell_type": "code",
   "execution_count": null,
   "id": "06c4d904-7127-47bc-960b-264af21d6145",
   "metadata": {},
   "outputs": [],
   "source": []
  }
 ],
 "metadata": {
  "kernelspec": {
   "display_name": "Python 3 (ipykernel)",
   "language": "python",
   "name": "python3"
  },
  "language_info": {
   "codemirror_mode": {
    "name": "ipython",
    "version": 3
   },
   "file_extension": ".py",
   "mimetype": "text/x-python",
   "name": "python",
   "nbconvert_exporter": "python",
   "pygments_lexer": "ipython3",
   "version": "3.11.3"
  }
 },
 "nbformat": 4,
 "nbformat_minor": 5
}
